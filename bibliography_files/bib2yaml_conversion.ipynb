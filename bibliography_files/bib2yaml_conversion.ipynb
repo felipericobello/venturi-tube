{
 "cells": [
  {
   "cell_type": "code",
   "execution_count": 3,
   "metadata": {},
   "outputs": [],
   "source": [
    "from bib2yaml.bib2yaml import bib2yaml"
   ]
  },
  {
   "cell_type": "code",
   "execution_count": 4,
   "metadata": {},
   "outputs": [],
   "source": [
    " # path to the bib file\n",
    "bib = 'D:/ufscar/VenturiTube/bibliography_files/venturi-tubeANDlearning.bib'\n",
    "# path to the output directory\n",
    "#outputDir = '/Users/aj/Downloads/'\n",
    "outputDir = 'D:/ufscar/VenturiTube/bibliography_files'\n",
    "\n",
    "# Run the function\n",
    "bib2yaml (bib, outputDir, fileName='ref')\n",
    "\n",
    "# commandline\n",
    "#python bib2yaml.py --bib /Users/aj/Downloads/ref.bib --outputDir /Users/aj/Downloads/\n",
    "    "
   ]
  }
 ],
 "metadata": {
  "kernelspec": {
   "display_name": "python",
   "language": "python",
   "name": "python3"
  },
  "language_info": {
   "codemirror_mode": {
    "name": "ipython",
    "version": 3
   },
   "file_extension": ".py",
   "mimetype": "text/x-python",
   "name": "python",
   "nbconvert_exporter": "python",
   "pygments_lexer": "ipython3",
   "version": "3.13.2"
  }
 },
 "nbformat": 4,
 "nbformat_minor": 2
}
